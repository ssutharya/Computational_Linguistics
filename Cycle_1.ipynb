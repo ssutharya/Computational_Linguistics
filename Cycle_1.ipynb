{
  "nbformat": 4,
  "nbformat_minor": 0,
  "metadata": {
    "colab": {
      "provenance": [],
      "authorship_tag": "ABX9TyP1x0yBPGR1e/Zyf1JIyH4U"
    },
    "kernelspec": {
      "name": "python3",
      "display_name": "Python 3"
    },
    "language_info": {
      "name": "python"
    }
  },
  "cells": [
    {
      "cell_type": "markdown",
      "source": [
        "1. write a python program that reads a para and:  \n",
        "    a. tokenizes the text into words;  \n",
        "    b. removes punctuations and converts all words to lowercase;  \n",
        "    c. performs stemming and lemmatization."
      ],
      "metadata": {
        "id": "PXjUrxKijtIe"
      }
    },
    {
      "cell_type": "code",
      "source": [
        "import re\n",
        "import nltk\n",
        "from nltk.stem import PorterStemmer\n",
        "from nltk.stem import WordNetLemmatizer\n",
        "\n",
        "nltk.download('punkt')\n",
        "nltk.download('wordnet')\n",
        "nltk.download('omw-1.4')\n",
        "nltk.download('punkt_tab')"
      ],
      "metadata": {
        "colab": {
          "base_uri": "https://localhost:8080/"
        },
        "id": "QUgK-1eZkQEm",
        "outputId": "c441c70e-ca64-43c0-c6b1-1266cd54b8e2"
      },
      "execution_count": null,
      "outputs": [
        {
          "output_type": "stream",
          "name": "stderr",
          "text": [
            "[nltk_data] Downloading package punkt to /root/nltk_data...\n",
            "[nltk_data]   Package punkt is already up-to-date!\n",
            "[nltk_data] Downloading package wordnet to /root/nltk_data...\n",
            "[nltk_data]   Package wordnet is already up-to-date!\n",
            "[nltk_data] Downloading package omw-1.4 to /root/nltk_data...\n",
            "[nltk_data]   Package omw-1.4 is already up-to-date!\n",
            "[nltk_data] Downloading package punkt_tab to /root/nltk_data...\n",
            "[nltk_data]   Package punkt_tab is already up-to-date!\n"
          ]
        },
        {
          "output_type": "execute_result",
          "data": {
            "text/plain": [
              "True"
            ]
          },
          "metadata": {},
          "execution_count": 9
        }
      ]
    },
    {
      "cell_type": "code",
      "execution_count": null,
      "metadata": {
        "id": "hElnteWsjmP0"
      },
      "outputs": [],
      "source": [
        "\n",
        "def tokenize(para):\n",
        "    # a. tokenizes the text into words;\n",
        "    tokens = nltk.word_tokenize(para)\n",
        "\n",
        "    # b. removes punctuations and converts all words to lowercase;\n",
        "    lowered = [i.lower() for i in tokens if i.isalpha()]\n",
        "\n",
        "    # c. performs stemming and lemmatization.\n",
        "    stemmer = PorterStemmer()\n",
        "    stemmed_tokens = [stemmer.stem(i) for i in lowered]\n",
        "\n",
        "    lemmatizer = WordNetLemmatizer()\n",
        "    lemmatized_tokens = [lemmatizer.lemmatize(i) for i in lowered]\n",
        "\n",
        "    return tokens, lowered, stemmed_tokens, lemmatized_tokens"
      ]
    },
    {
      "cell_type": "code",
      "metadata": {
        "colab": {
          "base_uri": "https://localhost:8080/"
        },
        "id": "3e60d725",
        "outputId": "8a69e906-9e4d-4e8a-f7a2-a4d2325df323"
      },
      "source": [
        "paragraph = input(\"Please enter a paragraph: \")\n",
        "\n",
        "tokens, lowered, stemmed_words, lemmatized_words = tokenize(paragraph)\n",
        "\n",
        "print(\"Tokens: \", tokens)\n",
        "print(\"Lower-case after removing punctuations: \", lowered)\n",
        "print(\"Stemmed words:\", stemmed_words)\n",
        "print(\"Lemmatized words:\", lemmatized_words)"
      ],
      "execution_count": null,
      "outputs": [
        {
          "output_type": "stream",
          "name": "stdout",
          "text": [
            "Please enter a paragraph: The cat (Felis catus), also referred to as the domestic cat or house cat, is a small domesticated carnivorous mammal. It is the only domesticated species of the family Felidae. Advances in archaeology and genetics have shown that the domestication of the cat occurred in the Near East around 7500 BC. It is commonly kept as a pet and working cat, but also ranges freely as a feral cat avoiding human contact. It is valued by humans for companionship and its ability to kill vermin. Its retractable claws are adapted to killing small prey species such as mice and rats. It has a strong, flexible body, quick reflexes, and sharp teeth, and its night vision and sense of smell are well developed. It is a social species, but a solitary hunter and a crepuscular predator.\n",
            "Tokens:  ['The', 'cat', '(', 'Felis', 'catus', ')', ',', 'also', 'referred', 'to', 'as', 'the', 'domestic', 'cat', 'or', 'house', 'cat', ',', 'is', 'a', 'small', 'domesticated', 'carnivorous', 'mammal', '.', 'It', 'is', 'the', 'only', 'domesticated', 'species', 'of', 'the', 'family', 'Felidae', '.', 'Advances', 'in', 'archaeology', 'and', 'genetics', 'have', 'shown', 'that', 'the', 'domestication', 'of', 'the', 'cat', 'occurred', 'in', 'the', 'Near', 'East', 'around', '7500', 'BC', '.', 'It', 'is', 'commonly', 'kept', 'as', 'a', 'pet', 'and', 'working', 'cat', ',', 'but', 'also', 'ranges', 'freely', 'as', 'a', 'feral', 'cat', 'avoiding', 'human', 'contact', '.', 'It', 'is', 'valued', 'by', 'humans', 'for', 'companionship', 'and', 'its', 'ability', 'to', 'kill', 'vermin', '.', 'Its', 'retractable', 'claws', 'are', 'adapted', 'to', 'killing', 'small', 'prey', 'species', 'such', 'as', 'mice', 'and', 'rats', '.', 'It', 'has', 'a', 'strong', ',', 'flexible', 'body', ',', 'quick', 'reflexes', ',', 'and', 'sharp', 'teeth', ',', 'and', 'its', 'night', 'vision', 'and', 'sense', 'of', 'smell', 'are', 'well', 'developed', '.', 'It', 'is', 'a', 'social', 'species', ',', 'but', 'a', 'solitary', 'hunter', 'and', 'a', 'crepuscular', 'predator', '.']\n",
            "Lower-case after removing punctuations:  ['the', 'cat', 'felis', 'catus', 'also', 'referred', 'to', 'as', 'the', 'domestic', 'cat', 'or', 'house', 'cat', 'is', 'a', 'small', 'domesticated', 'carnivorous', 'mammal', 'it', 'is', 'the', 'only', 'domesticated', 'species', 'of', 'the', 'family', 'felidae', 'advances', 'in', 'archaeology', 'and', 'genetics', 'have', 'shown', 'that', 'the', 'domestication', 'of', 'the', 'cat', 'occurred', 'in', 'the', 'near', 'east', 'around', 'bc', 'it', 'is', 'commonly', 'kept', 'as', 'a', 'pet', 'and', 'working', 'cat', 'but', 'also', 'ranges', 'freely', 'as', 'a', 'feral', 'cat', 'avoiding', 'human', 'contact', 'it', 'is', 'valued', 'by', 'humans', 'for', 'companionship', 'and', 'its', 'ability', 'to', 'kill', 'vermin', 'its', 'retractable', 'claws', 'are', 'adapted', 'to', 'killing', 'small', 'prey', 'species', 'such', 'as', 'mice', 'and', 'rats', 'it', 'has', 'a', 'strong', 'flexible', 'body', 'quick', 'reflexes', 'and', 'sharp', 'teeth', 'and', 'its', 'night', 'vision', 'and', 'sense', 'of', 'smell', 'are', 'well', 'developed', 'it', 'is', 'a', 'social', 'species', 'but', 'a', 'solitary', 'hunter', 'and', 'a', 'crepuscular', 'predator']\n",
            "Stemmed words: ['the', 'cat', 'feli', 'catu', 'also', 'refer', 'to', 'as', 'the', 'domest', 'cat', 'or', 'hous', 'cat', 'is', 'a', 'small', 'domest', 'carnivor', 'mammal', 'it', 'is', 'the', 'onli', 'domest', 'speci', 'of', 'the', 'famili', 'felida', 'advanc', 'in', 'archaeolog', 'and', 'genet', 'have', 'shown', 'that', 'the', 'domest', 'of', 'the', 'cat', 'occur', 'in', 'the', 'near', 'east', 'around', 'bc', 'it', 'is', 'commonli', 'kept', 'as', 'a', 'pet', 'and', 'work', 'cat', 'but', 'also', 'rang', 'freeli', 'as', 'a', 'feral', 'cat', 'avoid', 'human', 'contact', 'it', 'is', 'valu', 'by', 'human', 'for', 'companionship', 'and', 'it', 'abil', 'to', 'kill', 'vermin', 'it', 'retract', 'claw', 'are', 'adapt', 'to', 'kill', 'small', 'prey', 'speci', 'such', 'as', 'mice', 'and', 'rat', 'it', 'ha', 'a', 'strong', 'flexibl', 'bodi', 'quick', 'reflex', 'and', 'sharp', 'teeth', 'and', 'it', 'night', 'vision', 'and', 'sens', 'of', 'smell', 'are', 'well', 'develop', 'it', 'is', 'a', 'social', 'speci', 'but', 'a', 'solitari', 'hunter', 'and', 'a', 'crepuscular', 'predat']\n",
            "Lemmatized words: ['the', 'cat', 'felis', 'catus', 'also', 'referred', 'to', 'a', 'the', 'domestic', 'cat', 'or', 'house', 'cat', 'is', 'a', 'small', 'domesticated', 'carnivorous', 'mammal', 'it', 'is', 'the', 'only', 'domesticated', 'specie', 'of', 'the', 'family', 'felidae', 'advance', 'in', 'archaeology', 'and', 'genetics', 'have', 'shown', 'that', 'the', 'domestication', 'of', 'the', 'cat', 'occurred', 'in', 'the', 'near', 'east', 'around', 'bc', 'it', 'is', 'commonly', 'kept', 'a', 'a', 'pet', 'and', 'working', 'cat', 'but', 'also', 'range', 'freely', 'a', 'a', 'feral', 'cat', 'avoiding', 'human', 'contact', 'it', 'is', 'valued', 'by', 'human', 'for', 'companionship', 'and', 'it', 'ability', 'to', 'kill', 'vermin', 'it', 'retractable', 'claw', 'are', 'adapted', 'to', 'killing', 'small', 'prey', 'specie', 'such', 'a', 'mouse', 'and', 'rat', 'it', 'ha', 'a', 'strong', 'flexible', 'body', 'quick', 'reflex', 'and', 'sharp', 'teeth', 'and', 'it', 'night', 'vision', 'and', 'sense', 'of', 'smell', 'are', 'well', 'developed', 'it', 'is', 'a', 'social', 'specie', 'but', 'a', 'solitary', 'hunter', 'and', 'a', 'crepuscular', 'predator']\n"
          ]
        }
      ]
    },
    {
      "cell_type": "markdown",
      "source": [
        "2. Extract digits, Phone number, and email id from give sentence."
      ],
      "metadata": {
        "id": "mh6YRH2_tTrJ"
      }
    },
    {
      "cell_type": "code",
      "source": [
        "import re\n",
        "\n",
        "def extract_info(text):\n",
        "\n",
        "    # Extract all digits\n",
        "    digits = re.findall(r'\\d', text)\n",
        "\n",
        "    phone_numbers = re.findall(r'\\b(?:\\d{3}[-.\\s]?\\d{3}[-.\\s]?\\d{4}|\\d{10,11})\\b', text)\n",
        "\n",
        "    gmail_addresses = re.findall(r'\\b[a-zA-Z0-9._%+-]+@gmail\\.com\\b', text)\n",
        "\n",
        "    return {\n",
        "        \"digits\": digits,\n",
        "        \"phone_numbers\": phone_numbers,\n",
        "        \"gmail_addresses\": gmail_addresses\n",
        "    }\n",
        "\n",
        "text = \"My phone number is 4867473357, or you can call me at 8143586475. My email is sillycat123@gmail.com. Another email is hehethegoat@gmail.com.\"\n",
        "\n",
        "extracted_data = extract_info(text)\n",
        "\n",
        "print(\"Extracted Digits:\", extracted_data[\"digits\"])\n",
        "print(\"Extracted Phone Numbers:\", extracted_data[\"phone_numbers\"])\n",
        "print(\"Extracted Gmail Addresses:\", extracted_data[\"gmail_addresses\"])"
      ],
      "metadata": {
        "colab": {
          "base_uri": "https://localhost:8080/"
        },
        "id": "TKR-bOfQso0H",
        "outputId": "10fe376f-0b53-41e2-86b0-d44e18b29718"
      },
      "execution_count": 30,
      "outputs": [
        {
          "output_type": "stream",
          "name": "stdout",
          "text": [
            "Extracted Digits: ['4', '8', '6', '7', '4', '7', '3', '3', '5', '7', '8', '1', '4', '3', '5', '8', '6', '4', '7', '5', '1', '2', '3']\n",
            "Extracted Phone Numbers: ['4867473357', '8143586475']\n",
            "Extracted Gmail Addresses: ['sillycat123@gmail.com', 'hehethegoat@gmail.com']\n"
          ]
        }
      ]
    },
    {
      "cell_type": "markdown",
      "source": [
        "3. Implement simple rule based tokenizer for the English language, using regular expressions. The tokenizer should consider punctuations and special symbols as separate tokens. contractions like 'isn't' should be regarded as two tokens: is and n't, also identify abbreviations(eg: USA) and internal *hyphenation*(ice-cream) as single tokens\n"
      ],
      "metadata": {
        "id": "PAnhy9LHk1Af"
      }
    },
    {
      "cell_type": "code",
      "source": [
        "import re\n",
        "\n",
        "def rule_based_tokenizer(text):\n",
        "    pattern = re.compile(\n",
        "        r\"([a-zA-Z]+n\\'t)\"                        # contractions like isn't\n",
        "        r\"|([A-Z]{2,})\"                           # abbreviations\n",
        "        r\"|([a-zA-Z]+-[a-zA-Z]+)\"                 # hyphenated words\n",
        "        r\"|(\\$[\\d\\.]+)\"                           # money\n",
        "        r\"|(\\w+)\"                                 # normal words\n",
        "        r\"|(\\S)\"                                  # punctuation, etc.\n",
        "    )\n",
        "\n",
        "    tokens = []\n",
        "    for match in re.finditer(pattern, text):\n",
        "        matched_token = next((group for group in match.groups() if group), match.group(0))\n",
        "        tokens.append(matched_token)\n",
        "\n",
        "    # isn't → is, n't\n",
        "    final_tokens = []\n",
        "    contraction_pattern = re.compile(r\"([a-zA-Z]+)(n\\'t)\")\n",
        "\n",
        "    for token in tokens:\n",
        "        match = contraction_pattern.match(token)\n",
        "        if match:\n",
        "            final_tokens.extend([match.group(1), match.group(2)])\n",
        "        else:\n",
        "            final_tokens.append(token)\n",
        "\n",
        "    return final_tokens\n",
        "\n",
        "text = \"won't you tell me how ice-cream is a delicious thing..?\"\n",
        "# text = input(\"Enter Sentence: \")\n",
        "tokens = rule_based_tokenizer(text)\n",
        "print(tokens)\n"
      ],
      "metadata": {
        "colab": {
          "base_uri": "https://localhost:8080/"
        },
        "id": "7dTI3jRZrNf-",
        "outputId": "3fb44584-bcd2-453d-90a1-030943c23e16"
      },
      "execution_count": 31,
      "outputs": [
        {
          "output_type": "stream",
          "name": "stdout",
          "text": [
            "['wo', \"n't\", 'you', 'tell', 'me', 'how', 'ice-cream', 'is', 'a', 'delicious', 'thing', '.', '.', '?']\n"
          ]
        }
      ]
    }
  ]
}