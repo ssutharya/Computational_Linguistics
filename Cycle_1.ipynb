{
  "nbformat": 4,
  "nbformat_minor": 0,
  "metadata": {
    "colab": {
      "provenance": []
    },
    "kernelspec": {
      "name": "python3",
      "display_name": "Python 3"
    },
    "language_info": {
      "name": "python"
    }
  },
  "cells": [
    {
      "cell_type": "markdown",
      "source": [
        "1. write a python program that reads a para and:\n",
        "\n",
        "    a. tokenizes the text into words;\n",
        "\n",
        "    b. removes punctuations and converts all words to lowercase;\n",
        "    \n",
        "    c. performs stemming and lemmatization."
      ],
      "metadata": {
        "id": "PXjUrxKijtIe"
      }
    },
    {
      "cell_type": "code",
      "source": [
        "import re\n",
        "import nltk\n",
        "from nltk.stem import PorterStemmer\n",
        "from nltk.stem import WordNetLemmatizer\n",
        "\n",
        "nltk.download('punkt')\n",
        "nltk.download('wordnet')\n",
        "nltk.download('omw-1.4')\n",
        "nltk.download('punkt_tab')"
      ],
      "metadata": {
        "colab": {
          "base_uri": "https://localhost:8080/"
        },
        "id": "QUgK-1eZkQEm",
        "outputId": "c441c70e-ca64-43c0-c6b1-1266cd54b8e2"
      },
      "execution_count": 9,
      "outputs": [
        {
          "output_type": "stream",
          "name": "stderr",
          "text": [
            "[nltk_data] Downloading package punkt to /root/nltk_data...\n",
            "[nltk_data]   Package punkt is already up-to-date!\n",
            "[nltk_data] Downloading package wordnet to /root/nltk_data...\n",
            "[nltk_data]   Package wordnet is already up-to-date!\n",
            "[nltk_data] Downloading package omw-1.4 to /root/nltk_data...\n",
            "[nltk_data]   Package omw-1.4 is already up-to-date!\n",
            "[nltk_data] Downloading package punkt_tab to /root/nltk_data...\n",
            "[nltk_data]   Package punkt_tab is already up-to-date!\n"
          ]
        },
        {
          "output_type": "execute_result",
          "data": {
            "text/plain": [
              "True"
            ]
          },
          "metadata": {},
          "execution_count": 9
        }
      ]
    },
    {
      "cell_type": "code",
      "execution_count": 10,
      "metadata": {
        "id": "hElnteWsjmP0"
      },
      "outputs": [],
      "source": [
        "\n",
        "def tokenize(para):\n",
        "    # a. tokenizes the text into words;\n",
        "    tokens = nltk.word_tokenize(para)\n",
        "\n",
        "    # b. removes punctuations and converts all words to lowercase;\n",
        "    lowered = [i.lower() for i in tokens if i.isalpha()]\n",
        "\n",
        "    # c. performs stemming and lemmatization.\n",
        "    stemmer = PorterStemmer()\n",
        "    stemmed_tokens = [stemmer.stem(i) for i in lowered]\n",
        "\n",
        "    lemmatizer = WordNetLemmatizer()\n",
        "    lemmatized_tokens = [lemmatizer.lemmatize(i) for i in lowered]\n",
        "\n",
        "    return tokens, lowered, stemmed_tokens, lemmatized_tokens"
      ]
    },
    {
      "cell_type": "code",
      "metadata": {
        "colab": {
          "base_uri": "https://localhost:8080/"
        },
        "id": "3e60d725",
        "outputId": "8a69e906-9e4d-4e8a-f7a2-a4d2325df323"
      },
      "source": [
        "paragraph = input(\"Please enter a paragraph: \")\n",
        "\n",
        "tokens, lowered, stemmed_words, lemmatized_words = tokenize(paragraph)\n",
        "\n",
        "print(\"Tokens: \", tokens)\n",
        "print(\"Lower-case after removing punctuations: \", lowered)\n",
        "print(\"Stemmed words:\", stemmed_words)\n",
        "print(\"Lemmatized words:\", lemmatized_words)"
      ],
      "execution_count": 12,
      "outputs": [
        {
          "output_type": "stream",
          "name": "stdout",
          "text": [
            "Please enter a paragraph: The cat (Felis catus), also referred to as the domestic cat or house cat, is a small domesticated carnivorous mammal. It is the only domesticated species of the family Felidae. Advances in archaeology and genetics have shown that the domestication of the cat occurred in the Near East around 7500 BC. It is commonly kept as a pet and working cat, but also ranges freely as a feral cat avoiding human contact. It is valued by humans for companionship and its ability to kill vermin. Its retractable claws are adapted to killing small prey species such as mice and rats. It has a strong, flexible body, quick reflexes, and sharp teeth, and its night vision and sense of smell are well developed. It is a social species, but a solitary hunter and a crepuscular predator.\n",
            "Tokens:  ['The', 'cat', '(', 'Felis', 'catus', ')', ',', 'also', 'referred', 'to', 'as', 'the', 'domestic', 'cat', 'or', 'house', 'cat', ',', 'is', 'a', 'small', 'domesticated', 'carnivorous', 'mammal', '.', 'It', 'is', 'the', 'only', 'domesticated', 'species', 'of', 'the', 'family', 'Felidae', '.', 'Advances', 'in', 'archaeology', 'and', 'genetics', 'have', 'shown', 'that', 'the', 'domestication', 'of', 'the', 'cat', 'occurred', 'in', 'the', 'Near', 'East', 'around', '7500', 'BC', '.', 'It', 'is', 'commonly', 'kept', 'as', 'a', 'pet', 'and', 'working', 'cat', ',', 'but', 'also', 'ranges', 'freely', 'as', 'a', 'feral', 'cat', 'avoiding', 'human', 'contact', '.', 'It', 'is', 'valued', 'by', 'humans', 'for', 'companionship', 'and', 'its', 'ability', 'to', 'kill', 'vermin', '.', 'Its', 'retractable', 'claws', 'are', 'adapted', 'to', 'killing', 'small', 'prey', 'species', 'such', 'as', 'mice', 'and', 'rats', '.', 'It', 'has', 'a', 'strong', ',', 'flexible', 'body', ',', 'quick', 'reflexes', ',', 'and', 'sharp', 'teeth', ',', 'and', 'its', 'night', 'vision', 'and', 'sense', 'of', 'smell', 'are', 'well', 'developed', '.', 'It', 'is', 'a', 'social', 'species', ',', 'but', 'a', 'solitary', 'hunter', 'and', 'a', 'crepuscular', 'predator', '.']\n",
            "Lower-case after removing punctuations:  ['the', 'cat', 'felis', 'catus', 'also', 'referred', 'to', 'as', 'the', 'domestic', 'cat', 'or', 'house', 'cat', 'is', 'a', 'small', 'domesticated', 'carnivorous', 'mammal', 'it', 'is', 'the', 'only', 'domesticated', 'species', 'of', 'the', 'family', 'felidae', 'advances', 'in', 'archaeology', 'and', 'genetics', 'have', 'shown', 'that', 'the', 'domestication', 'of', 'the', 'cat', 'occurred', 'in', 'the', 'near', 'east', 'around', 'bc', 'it', 'is', 'commonly', 'kept', 'as', 'a', 'pet', 'and', 'working', 'cat', 'but', 'also', 'ranges', 'freely', 'as', 'a', 'feral', 'cat', 'avoiding', 'human', 'contact', 'it', 'is', 'valued', 'by', 'humans', 'for', 'companionship', 'and', 'its', 'ability', 'to', 'kill', 'vermin', 'its', 'retractable', 'claws', 'are', 'adapted', 'to', 'killing', 'small', 'prey', 'species', 'such', 'as', 'mice', 'and', 'rats', 'it', 'has', 'a', 'strong', 'flexible', 'body', 'quick', 'reflexes', 'and', 'sharp', 'teeth', 'and', 'its', 'night', 'vision', 'and', 'sense', 'of', 'smell', 'are', 'well', 'developed', 'it', 'is', 'a', 'social', 'species', 'but', 'a', 'solitary', 'hunter', 'and', 'a', 'crepuscular', 'predator']\n",
            "Stemmed words: ['the', 'cat', 'feli', 'catu', 'also', 'refer', 'to', 'as', 'the', 'domest', 'cat', 'or', 'hous', 'cat', 'is', 'a', 'small', 'domest', 'carnivor', 'mammal', 'it', 'is', 'the', 'onli', 'domest', 'speci', 'of', 'the', 'famili', 'felida', 'advanc', 'in', 'archaeolog', 'and', 'genet', 'have', 'shown', 'that', 'the', 'domest', 'of', 'the', 'cat', 'occur', 'in', 'the', 'near', 'east', 'around', 'bc', 'it', 'is', 'commonli', 'kept', 'as', 'a', 'pet', 'and', 'work', 'cat', 'but', 'also', 'rang', 'freeli', 'as', 'a', 'feral', 'cat', 'avoid', 'human', 'contact', 'it', 'is', 'valu', 'by', 'human', 'for', 'companionship', 'and', 'it', 'abil', 'to', 'kill', 'vermin', 'it', 'retract', 'claw', 'are', 'adapt', 'to', 'kill', 'small', 'prey', 'speci', 'such', 'as', 'mice', 'and', 'rat', 'it', 'ha', 'a', 'strong', 'flexibl', 'bodi', 'quick', 'reflex', 'and', 'sharp', 'teeth', 'and', 'it', 'night', 'vision', 'and', 'sens', 'of', 'smell', 'are', 'well', 'develop', 'it', 'is', 'a', 'social', 'speci', 'but', 'a', 'solitari', 'hunter', 'and', 'a', 'crepuscular', 'predat']\n",
            "Lemmatized words: ['the', 'cat', 'felis', 'catus', 'also', 'referred', 'to', 'a', 'the', 'domestic', 'cat', 'or', 'house', 'cat', 'is', 'a', 'small', 'domesticated', 'carnivorous', 'mammal', 'it', 'is', 'the', 'only', 'domesticated', 'specie', 'of', 'the', 'family', 'felidae', 'advance', 'in', 'archaeology', 'and', 'genetics', 'have', 'shown', 'that', 'the', 'domestication', 'of', 'the', 'cat', 'occurred', 'in', 'the', 'near', 'east', 'around', 'bc', 'it', 'is', 'commonly', 'kept', 'a', 'a', 'pet', 'and', 'working', 'cat', 'but', 'also', 'range', 'freely', 'a', 'a', 'feral', 'cat', 'avoiding', 'human', 'contact', 'it', 'is', 'valued', 'by', 'human', 'for', 'companionship', 'and', 'it', 'ability', 'to', 'kill', 'vermin', 'it', 'retractable', 'claw', 'are', 'adapted', 'to', 'killing', 'small', 'prey', 'specie', 'such', 'a', 'mouse', 'and', 'rat', 'it', 'ha', 'a', 'strong', 'flexible', 'body', 'quick', 'reflex', 'and', 'sharp', 'teeth', 'and', 'it', 'night', 'vision', 'and', 'sense', 'of', 'smell', 'are', 'well', 'developed', 'it', 'is', 'a', 'social', 'specie', 'but', 'a', 'solitary', 'hunter', 'and', 'a', 'crepuscular', 'predator']\n"
          ]
        }
      ]
    }
  ]
}